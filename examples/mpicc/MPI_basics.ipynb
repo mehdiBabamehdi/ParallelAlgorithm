{
 "cells": [
  {
   "cell_type": "markdown",
   "metadata": {
    "collapsed": true
   },
   "source": [
    "# MPI hello world:"
   ]
  },
  {
   "cell_type": "code",
   "execution_count": 1,
   "metadata": {},
   "outputs": [
    {
     "name": "stdout",
     "output_type": "stream",
     "text": [
      "Overwriting src/mpi_hello.c\n"
     ]
    }
   ],
   "source": [
    "%%writefile src/mpi_hello.c\n",
    "#include<mpi.h>\n",
    "#include<stdio.h>\n",
    "\n",
    "int main(int argc, char** argv){\n",
    "    int rank, size;\n",
    "    MPI_Init(&argc,&argv);\n",
    "    MPI_Comm_rank(MPI_COMM_WORLD, &rank);\n",
    "    MPI_Comm_size(MPI_COMM_WORLD, &size);\n",
    "    if (rank!=0)\n",
    "        printf(\"Hello I'm %d of %d\\n\", rank, size);\n",
    "    else\n",
    "        printf(\"I'm master of %d!!!\\n\", size);\n",
    "    MPI_Finalize();\n",
    "    return 0;\n",
    "}"
   ]
  },
  {
   "cell_type": "code",
   "execution_count": 2,
   "metadata": {},
   "outputs": [
    {
     "name": "stdout",
     "output_type": "stream",
     "text": [
      "I'm master of 4!!!\r\n",
      "Hello I'm 3 of 4\r\n",
      "Hello I'm 1 of 4\r\n",
      "Hello I'm 2 of 4\r\n"
     ]
    }
   ],
   "source": [
    "!mpicc -pedantic -Wall -o bin/mpi_hello src/mpi_hello.c\n",
    "!mpiexec -n 4 bin/mpi_hello"
   ]
  },
  {
   "cell_type": "markdown",
   "metadata": {},
   "source": [
    "# MPI blocking send message in loop"
   ]
  },
  {
   "cell_type": "code",
   "execution_count": 3,
   "metadata": {},
   "outputs": [
    {
     "name": "stdout",
     "output_type": "stream",
     "text": [
      "Overwriting src/mpi_send.c\n"
     ]
    }
   ],
   "source": [
    "%%writefile src/mpi_send.c\n",
    "#include<mpi.h>\n",
    "#include<stdio.h>\n",
    "\n",
    "int main(int argc, char** argv){\n",
    "    int rank, size;\n",
    "    MPI_Init(&argc,&argv);\n",
    "    MPI_Comm_rank(MPI_COMM_WORLD, &rank);\n",
    "    MPI_Comm_size(MPI_COMM_WORLD, &size);\n",
    "\n",
    "    int i;\n",
    "    int message=rank;\n",
    "    int rec_buf;\n",
    "    int count=1;\n",
    "    int tag=0;\n",
    "    MPI_Status status;\n",
    "    double starttime, endtime;\n",
    "    \n",
    "    MPI_Barrier(MPI_COMM_WORLD);\n",
    "    starttime=MPI_Wtime();\n",
    "    for(i=0;i<10;i++){\n",
    "        if (rank%2==0){\n",
    "            MPI_Send(&message, count, MPI_INT, (rank+1)%size, tag, MPI_COMM_WORLD);\n",
    "            MPI_Recv(&rec_buf, count, MPI_INT, (rank-1)%size, tag, MPI_COMM_WORLD,&status);\n",
    "        }\n",
    "        else{\n",
    "            MPI_Recv(&rec_buf, count, MPI_INT, (rank-1)%size, tag, MPI_COMM_WORLD,&status);\n",
    "            MPI_Send(&message, count, MPI_INT, (rank+1)%size, tag, MPI_COMM_WORLD);\n",
    "        }\n",
    "        printf(\"rank %d received message %d\\n\", rank, rec_buf);\n",
    "        message=rec_buf;\n",
    "        MPI_Barrier(MPI_COMM_WORLD);\n",
    "        if (rank==0) printf(\"\\n\");\n",
    "        MPI_Barrier(MPI_COMM_WORLD);\n",
    "    }\n",
    "    MPI_Barrier(MPI_COMM_WORLD);\n",
    "    endtime=MPI_Wtime();\n",
    "    \n",
    "//Fun with datatypes\n",
    "    if (rank==0){\n",
    "        printf(\"overall time: %f\\n\", endtime-starttime);\n",
    "        int intsize;\n",
    "        int charsize;\n",
    "        MPI_Type_size(MPI_INT, &intsize);\n",
    "        MPI_Type_size(MPI_CHAR, &charsize);\n",
    "        \n",
    "        printf(\"Size of Int: %d\\nSize of Char: %d\\n\", intsize, charsize);\n",
    "        MPI_Get_count(&status, MPI_CHAR, &count); //will be 4, as int is 4 bytes and char is 1 byte\n",
    "        printf(\"count was %d\\n\",count);\n",
    "    }\n",
    "    \n",
    "    \n",
    "    MPI_Finalize();\n",
    "    return 0;\n",
    "}"
   ]
  },
  {
   "cell_type": "code",
   "execution_count": 4,
   "metadata": {},
   "outputs": [
    {
     "name": "stdout",
     "output_type": "stream",
     "text": [
      "rank 0 received message 3\r\n",
      "rank 1 received message 0\r\n",
      "rank 2 received message 1\r\n",
      "rank 3 received message 2\r\n",
      "\r\n",
      "rank 0 received message 2\r\n",
      "\r\n",
      "rank 0 received message 1\r\n",
      "\r\n",
      "rank 1 received message 3\r\n",
      "rank 1 received message 2\r\n",
      "rank 1 received message 1\r\n",
      "rank 2 received message 0\r\n",
      "rank 2 received message 3\r\n",
      "rank 2 received message 2\r\n",
      "rank 3 received message 1\r\n",
      "rank 3 received message 0\r\n",
      "rank 3 received message 3\r\n",
      "rank 2 received message 1\r\n",
      "rank 0 received message 0\r\n",
      "\r\n",
      "rank 0 received message 3\r\n",
      "\r\n",
      "rank 0 received message 2\r\n",
      "\r\n",
      "rank 1 received message 0\r\n",
      "rank 1 received message 3\r\n",
      "rank 1 received message 2\r\n",
      "rank 3 received message 2\r\n",
      "rank 3 received message 1\r\n",
      "rank 3 received message 0\r\n",
      "rank 3 received message 3\r\n",
      "rank 1 received message 1\r\n",
      "rank 2 received message 0\r\n",
      "rank 2 received message 3\r\n",
      "rank 2 received message 2\r\n",
      "rank 0 received message 1\r\n",
      "\r\n",
      "rank 0 received message 0\r\n",
      "\r\n",
      "rank 0 received message 3\r\n",
      "rank 3 received message 2\r\n",
      "rank 3 received message 1\r\n",
      "rank 1 received message 0\r\n",
      "rank 1 received message 3\r\n",
      "rank 2 received message 1\r\n",
      "rank 2 received message 0\r\n",
      "\r\n",
      "rank 0 received message 2\r\n",
      "\r\n",
      "overall time: 0.000235\r\n",
      "Size of Int: 4\r\n",
      "Size of Char: 1\r\n",
      "count was 4\r\n"
     ]
    }
   ],
   "source": [
    "!mpicc -pedantic -Wall -o bin/mpi_send src/mpi_send.c\n",
    "!mpiexec -n 4 bin/mpi_send"
   ]
  },
  {
   "cell_type": "markdown",
   "metadata": {},
   "source": [
    "# MPI collective\n",
    "## MPI_Bcast:"
   ]
  },
  {
   "cell_type": "code",
   "execution_count": 5,
   "metadata": {},
   "outputs": [
    {
     "name": "stdout",
     "output_type": "stream",
     "text": [
      "Overwriting src/mpi_bcast.c\n"
     ]
    }
   ],
   "source": [
    "%%writefile src/mpi_bcast.c\n",
    "#include<mpi.h>\n",
    "#include<stdio.h>\n",
    "\n",
    "int main(int argc, char** argv){\n",
    "    int rank, size;\n",
    "    MPI_Init(&argc,&argv);\n",
    "    MPI_Comm_rank(MPI_COMM_WORLD, &rank);\n",
    "    MPI_Comm_size(MPI_COMM_WORLD, &size);\n",
    "\n",
    "    int message;\n",
    "    int count=1;\n",
    "    int root=0;\n",
    "    \n",
    "    printf(\"uninitialized message: %d\\n\",message);\n",
    "    MPI_Barrier(MPI_COMM_WORLD);\n",
    "    if (rank==0)\n",
    "        message=31415;\n",
    "    MPI_Bcast(&message, count, MPI_INT, root, MPI_COMM_WORLD);\n",
    "    printf(\"rank: %d, message: %d\\n\",rank,message);\n",
    "\n",
    "    \n",
    "    MPI_Finalize();\n",
    "    return 0;\n",
    "}"
   ]
  },
  {
   "cell_type": "code",
   "execution_count": 6,
   "metadata": {},
   "outputs": [
    {
     "name": "stdout",
     "output_type": "stream",
     "text": [
      "uninitialized message: 21880\r\n",
      "uninitialized message: 21998\r\n",
      "uninitialized message: 22045\r\n",
      "uninitialized message: 21882\r\n",
      "rank: 0, message: 31415\r\n",
      "rank: 1, message: 31415\r\n",
      "rank: 2, message: 31415\r\n",
      "rank: 3, message: 31415\r\n"
     ]
    }
   ],
   "source": [
    "!mpicc -pedantic -Wall -o bin/mpi_bcast src/mpi_bcast.c\n",
    "!mpiexec -n 4 bin/mpi_bcast"
   ]
  },
  {
   "cell_type": "markdown",
   "metadata": {},
   "source": [
    "## MPI_Reduce:\n",
    "### result only available on root"
   ]
  },
  {
   "cell_type": "code",
   "execution_count": 7,
   "metadata": {},
   "outputs": [
    {
     "name": "stdout",
     "output_type": "stream",
     "text": [
      "Overwriting src/mpi_reduce.c\n"
     ]
    }
   ],
   "source": [
    "%%writefile src/mpi_reduce.c\n",
    "#include<mpi.h>\n",
    "#include<stdio.h>\n",
    "\n",
    "int main(int argc, char** argv){\n",
    "    int rank, size;\n",
    "    MPI_Init(&argc,&argv);\n",
    "    MPI_Comm_rank(MPI_COMM_WORLD, &rank);\n",
    "    MPI_Comm_size(MPI_COMM_WORLD, &size);\n",
    "\n",
    "    int message;\n",
    "    int count=1;\n",
    "    int root=0;\n",
    "    \n",
    "    printf(\"uninitialized message: %d\\n\",message);\n",
    "    MPI_Barrier(MPI_COMM_WORLD);\n",
    "    MPI_Reduce(&rank, &message, count, MPI_INT, MPI_SUM, root, MPI_COMM_WORLD);\n",
    "    printf(\"rank: %d, message: %d\\n\",rank,message);\n",
    "\n",
    "    MPI_Finalize();\n",
    "    return 0;\n",
    "}"
   ]
  },
  {
   "cell_type": "code",
   "execution_count": 8,
   "metadata": {},
   "outputs": [
    {
     "name": "stdout",
     "output_type": "stream",
     "text": [
      "uninitialized message: 21971\r\n",
      "uninitialized message: 22067\r\n",
      "uninitialized message: 21966\r\n",
      "uninitialized message: 21991\r\n",
      "rank: 2, message: 21991\r\n",
      "rank: 3, message: 21966\r\n",
      "rank: 1, message: 21971\r\n",
      "rank: 0, message: 6\r\n"
     ]
    }
   ],
   "source": [
    "!mpicc -pedantic -Wall -o bin/mpi_reduce src/mpi_reduce.c\n",
    "!mpiexec -n 4 bin/mpi_reduce"
   ]
  },
  {
   "cell_type": "markdown",
   "metadata": {},
   "source": [
    "## MPI_Allreduce"
   ]
  },
  {
   "cell_type": "code",
   "execution_count": 9,
   "metadata": {},
   "outputs": [
    {
     "name": "stdout",
     "output_type": "stream",
     "text": [
      "Overwriting src/mpi_allreduce.c\n"
     ]
    }
   ],
   "source": [
    "%%writefile src/mpi_allreduce.c\n",
    "#include<mpi.h>\n",
    "#include<stdio.h>\n",
    "\n",
    "int main(int argc, char** argv){\n",
    "    int rank, size;\n",
    "    MPI_Init(&argc,&argv);\n",
    "    MPI_Comm_rank(MPI_COMM_WORLD, &rank);\n",
    "    MPI_Comm_size(MPI_COMM_WORLD, &size);\n",
    "\n",
    "    int message;\n",
    "    int count=1;\n",
    "    \n",
    "    printf(\"uninitialized message: %d\\n\",message);\n",
    "    MPI_Barrier(MPI_COMM_WORLD);\n",
    "    MPI_Allreduce(&rank, &message, count, MPI_INT, MPI_SUM, MPI_COMM_WORLD);\n",
    "    printf(\"rank: %d, message: %d\\n\",rank,message);\n",
    "\n",
    "    MPI_Finalize();\n",
    "    return 0;\n",
    "}"
   ]
  },
  {
   "cell_type": "code",
   "execution_count": 10,
   "metadata": {},
   "outputs": [
    {
     "name": "stdout",
     "output_type": "stream",
     "text": [
      "uninitialized message: -767154400\r\n",
      "uninitialized message: -701385664\r\n",
      "uninitialized message: -97099616\r\n",
      "uninitialized message: -1491143888\r\n",
      "rank: 1, message: 6\r\n",
      "rank: 3, message: 6\r\n",
      "rank: 2, message: 6\r\n",
      "rank: 0, message: 6\r\n"
     ]
    }
   ],
   "source": [
    "!mpicc -pedantic -Wall -o bin/mpi_allreduce src/mpi_allreduce.c\n",
    "!mpiexec -n 4 bin/mpi_allreduce"
   ]
  },
  {
   "cell_type": "markdown",
   "metadata": {},
   "source": [
    "## Gather"
   ]
  },
  {
   "cell_type": "code",
   "execution_count": 11,
   "metadata": {},
   "outputs": [
    {
     "name": "stdout",
     "output_type": "stream",
     "text": [
      "Overwriting src/gather_int.c\n"
     ]
    }
   ],
   "source": [
    "%%writefile src/gather_int.c\n",
    "#include<mpi.h>\n",
    "#include<stdio.h>\n",
    "#include<string.h>\n",
    "#include<stdlib.h>\n",
    "int main(int argc, char** argv){\n",
    "    int rank, size;\n",
    "    MPI_Init(&argc,&argv);\n",
    "    MPI_Comm_rank(MPI_COMM_WORLD, &rank);\n",
    "    MPI_Comm_size(MPI_COMM_WORLD, &size);\n",
    "    \n",
    "    int sendbuf=rank;\n",
    "    int sendcount=1;\n",
    "    int recv_data[size];\n",
    "    int recv_count=sendcount;\n",
    "    int root=0;\n",
    "    MPI_Gather(&sendbuf, sendcount, MPI_INT, recv_data, recv_count, MPI_INT, root, MPI_COMM_WORLD);\n",
    "    printf(\"rank %d,sendbuf %d, recv_data %d%d%d%d\\n\",rank,sendbuf,recv_data[0],recv_data[1],recv_data[2],recv_data[3]);\n",
    "\n",
    "    MPI_Finalize();\n",
    "    return 0;\n",
    "}"
   ]
  },
  {
   "cell_type": "code",
   "execution_count": 12,
   "metadata": {},
   "outputs": [
    {
     "name": "stdout",
     "output_type": "stream",
     "text": [
      "rank 1,sendbuf 1, recv_data 123974505632766-36831180921846\r\n",
      "rank 3,sendbuf 3, recv_data 82972059232767-161231616121940\r\n",
      "rank 0,sendbuf 0, recv_data 0123\r\n",
      "rank 2,sendbuf 2, recv_data -161947398432766102271027122066\r\n"
     ]
    }
   ],
   "source": [
    "!mpicc -pedantic -Wall -o bin/gather_int src/gather_int.c\n",
    "!mpiexec -n 4 bin/gather_int"
   ]
  },
  {
   "cell_type": "code",
   "execution_count": 13,
   "metadata": {},
   "outputs": [
    {
     "name": "stdout",
     "output_type": "stream",
     "text": [
      "Overwriting src/gather_char.c\n"
     ]
    }
   ],
   "source": [
    "%%writefile src/gather_char.c\n",
    "#include<mpi.h>\n",
    "#include<stdio.h>\n",
    "#include<string.h>\n",
    "#include<stdlib.h>\n",
    "int main(int argc, char** argv){\n",
    "    int rank, size;\n",
    "    MPI_Init(&argc,&argv);\n",
    "    MPI_Comm_rank(MPI_COMM_WORLD, &rank);\n",
    "    MPI_Comm_size(MPI_COMM_WORLD, &size);\n",
    "    \n",
    "    char sendbuf[3]=\"W A\";\n",
    "    int sendcount=3;\n",
    "    char recv_data[strlen(sendbuf)*size+1];\n",
    "    int recv_count=sendcount;\n",
    "    int root=0;\n",
    "       \n",
    "    MPI_Gather(sendbuf, sendcount, MPI_CHAR, recv_data, recv_count, MPI_CHAR, root, MPI_COMM_WORLD);\n",
    "    recv_data[strlen(sendbuf)*size]='\\0';\n",
    "    printf(\"rank %d, sendbuf %s, recv_data %s\\n\",rank,sendbuf,recv_data);\n",
    "\n",
    "    MPI_Finalize();\n",
    "    return 0;\n",
    "}"
   ]
  },
  {
   "cell_type": "code",
   "execution_count": 14,
   "metadata": {},
   "outputs": [
    {
     "name": "stdout",
     "output_type": "stream",
     "text": [
      "rank 3, sendbuf W A, recv_data \u0002\r\n",
      "rank 1, sendbuf W A, recv_data \u0002\r\n",
      "rank 0, sendbuf W A, recv_data W AW AW AW A\r\n",
      "rank 2, sendbuf W A, recv_data \u0002\r\n"
     ]
    }
   ],
   "source": [
    "!mpicc -pedantic -Wall -o bin/gather_char src/gather_char.c\n",
    "!mpiexec -n 4 bin/gather_char"
   ]
  },
  {
   "cell_type": "code",
   "execution_count": 15,
   "metadata": {},
   "outputs": [
    {
     "name": "stdout",
     "output_type": "stream",
     "text": [
      "Overwriting src/gather_str.c\n"
     ]
    }
   ],
   "source": [
    "%%writefile src/gather_str.c\n",
    "#include<mpi.h>\n",
    "#include<stdio.h>\n",
    "#include<string.h>\n",
    "#include<stdlib.h>\n",
    "int main(int argc, char** argv){\n",
    "    int rank, size;\n",
    "    MPI_Init(&argc,&argv);\n",
    "    MPI_Comm_rank(MPI_COMM_WORLD, &rank);\n",
    "    MPI_Comm_size(MPI_COMM_WORLD, &size);\n",
    "    \n",
    "    int sendcount=1;\n",
    "    char sendbuf[sendcount];\n",
    "    snprintf(sendbuf, sendcount+1, \"%d\", rank+4);\n",
    "\n",
    "    char recv_data[size];\n",
    "    int recv_count=sendcount;\n",
    "    int root=0;\n",
    "    MPI_Gather(sendbuf, sendcount, MPI_CHAR, recv_data, recv_count, MPI_CHAR, root, MPI_COMM_WORLD);\n",
    "    printf(\"rank %d, sendbuf %s, recv_char %s\\n\",rank,sendbuf,recv_data);\n",
    "\n",
    "    MPI_Finalize();\n",
    "    return 0;\n",
    "}"
   ]
  },
  {
   "cell_type": "code",
   "execution_count": 16,
   "metadata": {},
   "outputs": [
    {
     "name": "stdout",
     "output_type": "stream",
     "text": [
      "rank 3, sendbuf 7, recv_char \u0001\r\n",
      "rank 1, sendbuf 5, recv_char \u0001\r\n",
      "rank 0, sendbuf 4, recv_char 4567\r\n",
      "rank 2, sendbuf 6, recv_char \u0001\r\n"
     ]
    }
   ],
   "source": [
    "!mpicc -pedantic -Wall -o bin/gather_str src/gather_str.c\n",
    "!mpiexec -n 4 bin/gather_str"
   ]
  },
  {
   "cell_type": "markdown",
   "metadata": {
    "collapsed": true
   },
   "source": [
    "## Allgather"
   ]
  },
  {
   "cell_type": "code",
   "execution_count": 17,
   "metadata": {},
   "outputs": [
    {
     "name": "stdout",
     "output_type": "stream",
     "text": [
      "Overwriting src/allgather_int.c\n"
     ]
    }
   ],
   "source": [
    "%%writefile src/allgather_int.c\n",
    "#include<mpi.h>\n",
    "#include<stdio.h>\n",
    "#include<string.h>\n",
    "#include<stdlib.h>\n",
    "int main(int argc, char** argv){\n",
    "    int rank, size;\n",
    "    MPI_Init(&argc,&argv);\n",
    "    MPI_Comm_rank(MPI_COMM_WORLD, &rank);\n",
    "    MPI_Comm_size(MPI_COMM_WORLD, &size);\n",
    "    \n",
    "    int sendbuf=rank;\n",
    "    int sendcount=1;\n",
    "    int recv_data[size];\n",
    "    int recv_count=sendcount;\n",
    "    MPI_Allgather(&sendbuf, sendcount, MPI_INT, recv_data, recv_count, MPI_INT, MPI_COMM_WORLD);\n",
    "    printf(\"rank %d,sendbuf %d, recv_data %d%d%d%d\\n\",rank,sendbuf,recv_data[0],recv_data[1],recv_data[2],recv_data[3]);\n",
    "\n",
    "    MPI_Finalize();\n",
    "    return 0;\n",
    "}"
   ]
  },
  {
   "cell_type": "code",
   "execution_count": 18,
   "metadata": {},
   "outputs": [
    {
     "name": "stdout",
     "output_type": "stream",
     "text": [
      "rank 0,sendbuf 0, recv_data 0123\r\n",
      "rank 1,sendbuf 1, recv_data 0123\r\n",
      "rank 2,sendbuf 2, recv_data 0123\r\n",
      "rank 3,sendbuf 3, recv_data 0123\r\n"
     ]
    }
   ],
   "source": [
    "!mpicc -pedantic -Wall -o bin/allgather_int src/allgather_int.c\n",
    "!mpiexec -n 4 bin/allgather_int"
   ]
  },
  {
   "cell_type": "markdown",
   "metadata": {},
   "source": [
    "## Scatter"
   ]
  },
  {
   "cell_type": "code",
   "execution_count": 19,
   "metadata": {},
   "outputs": [
    {
     "name": "stdout",
     "output_type": "stream",
     "text": [
      "Overwriting src/scatter_int.c\n"
     ]
    }
   ],
   "source": [
    "%%writefile src/scatter_int.c\n",
    "#include<mpi.h>\n",
    "#include<stdio.h>\n",
    "#include<string.h>\n",
    "#include<stdlib.h>\n",
    "int main(int argc, char** argv){\n",
    "    int rank, size;\n",
    "    MPI_Init(&argc,&argv);\n",
    "    MPI_Comm_rank(MPI_COMM_WORLD, &rank);\n",
    "    MPI_Comm_size(MPI_COMM_WORLD, &size);\n",
    "    \n",
    "    int send_data[4];\n",
    "    if (rank==0){\n",
    "        send_data[0]=4;\n",
    "        send_data[1]=3;\n",
    "        send_data[2]=2;\n",
    "        send_data[3]=1;\n",
    "    }\n",
    "    int send_count=1;\n",
    "    int recv_data[1];\n",
    "    int recv_count=1;\n",
    "    int root=0;\n",
    "    \n",
    "    MPI_Scatter(send_data, send_count, MPI_INT, recv_data, \n",
    "                recv_count, MPI_INT, root, MPI_COMM_WORLD);\n",
    "    printf(\"rank %d, send_data %d, recv_data %d\\n\",rank,*(send_data+1),*recv_data);\n",
    "    \n",
    "    \n",
    "    MPI_Finalize();\n",
    "    return 0;\n",
    "}"
   ]
  },
  {
   "cell_type": "code",
   "execution_count": 20,
   "metadata": {},
   "outputs": [
    {
     "name": "stdout",
     "output_type": "stream",
     "text": [
      "rank 0, send_data 3, recv_data 4\r\n",
      "rank 1, send_data 22029, recv_data 3\r\n",
      "rank 2, send_data 21893, recv_data 2\r\n",
      "rank 3, send_data 21874, recv_data 1\r\n"
     ]
    }
   ],
   "source": [
    "!mpicc -pedantic -Wall -o bin/scatter_int src/scatter_int.c\n",
    "!mpiexec -n 4 bin/scatter_int"
   ]
  },
  {
   "cell_type": "code",
   "execution_count": 21,
   "metadata": {},
   "outputs": [
    {
     "name": "stdout",
     "output_type": "stream",
     "text": [
      "Overwriting src/scatter_char.c\n"
     ]
    }
   ],
   "source": [
    "%%writefile src/scatter_char.c\n",
    "#include<mpi.h>\n",
    "#include<stdio.h>\n",
    "#include<string.h>\n",
    "#include<stdlib.h>\n",
    "int main(int argc, char** argv){\n",
    "    int rank, size;\n",
    "    MPI_Init(&argc,&argv);\n",
    "    MPI_Comm_rank(MPI_COMM_WORLD, &rank);\n",
    "    MPI_Comm_size(MPI_COMM_WORLD, &size);\n",
    "    \n",
    "    char send_data[5];\n",
    "    if (rank==0){\n",
    "        send_data[0]='A';\n",
    "        send_data[1]='B';\n",
    "        send_data[2]='C';\n",
    "        send_data[3]='D';\n",
    "    }\n",
    "    int send_count=1;\n",
    "    char recv_data[2];\n",
    "    recv_data[1]='\\0';\n",
    "    int recv_count=1;\n",
    "    int root=0;\n",
    "    \n",
    "    MPI_Scatter(send_data, send_count, MPI_CHAR, recv_data, \n",
    "                recv_count, MPI_CHAR, root, MPI_COMM_WORLD);\n",
    "    printf(\"rank %d, send_data %s, recv_data %s\\n\",rank,send_data,recv_data);\n",
    "    \n",
    "    \n",
    "    MPI_Finalize();\n",
    "    return 0;\n",
    "}"
   ]
  },
  {
   "cell_type": "code",
   "execution_count": 22,
   "metadata": {},
   "outputs": [
    {
     "name": "stdout",
     "output_type": "stream",
     "text": [
      "rank 0, send_data ABCD, recv_data A\r\n",
      "rank 2, send_data S�, recv_data C\r\n",
      "rank 1, send_data ^�, recv_data B\r\n",
      "rank 3, send_data ��, recv_data D\r\n"
     ]
    }
   ],
   "source": [
    "!mpicc -pedantic -Wall -o bin/scatter_char src/scatter_char.c\n",
    "!mpiexec -n 4 bin/scatter_char"
   ]
  },
  {
   "cell_type": "markdown",
   "metadata": {},
   "source": [
    "# MPI Communicators"
   ]
  },
  {
   "cell_type": "code",
   "execution_count": 23,
   "metadata": {},
   "outputs": [
    {
     "name": "stdout",
     "output_type": "stream",
     "text": [
      "Overwriting src/cart_create.c\n"
     ]
    }
   ],
   "source": [
    "%%writefile src/cart_create.c\n",
    "#include<mpi.h>\n",
    "#include<stdio.h>\n",
    "#define DIM 2\n",
    "\n",
    "int main(int argc, char** argv){\n",
    "    int rank, size;\n",
    "    MPI_Init(&argc,&argv);\n",
    "    MPI_Comm_rank(MPI_COMM_WORLD, &rank);\n",
    "    MPI_Comm_size(MPI_COMM_WORLD, &size);\n",
    "    \n",
    "    int dim_sizes[DIM]={4,size/4};\n",
    "    int wrap_around[DIM]={0,1};\n",
    "    MPI_Comm grid_comm;\n",
    "    int reorder=1;\n",
    "    MPI_Cart_create(MPI_COMM_WORLD, DIM, dim_sizes, wrap_around, reorder, &grid_comm);\n",
    "    int grank;\n",
    "    MPI_Comm_rank(grid_comm, &grank);\n",
    "    int coordinates[DIM];\n",
    "    MPI_Cart_coords(grid_comm,grank, DIM,coordinates);\n",
    "    int grid_rank;\n",
    "    MPI_Cart_rank(grid_comm,coordinates,&grid_rank);\n",
    "    \n",
    "    int free_coords[DIM]={0,1};\n",
    "    MPI_Comm row_comm;\n",
    "    MPI_Cart_sub(grid_comm, free_coords,&row_comm);\n",
    "    int row_size, row_rank, row_cart_rank;\n",
    "    MPI_Comm_rank(row_comm, &row_rank);\n",
    "    MPI_Comm_size(row_comm, &row_size);\n",
    "    MPI_Cart_rank(row_comm,coordinates,&row_cart_rank);\n",
    "\n",
    "    \n",
    "    //printf(\"rank: %2d; grank: %2d; [%d,%2d]; grid_rank: %2d; row_rank: %2d; row_size %2d\\n\",rank, grank,coordinates[0],coordinates[1], grid_rank,row_rank,row_size);\n",
    "    //printf(\"===========\\n\");\n",
    "    int rank_source, rank_dest;\n",
    "    int direction=0;\n",
    "    int displacement=1;\n",
    "    MPI_Cart_shift(row_comm, direction, displacement, &rank_source,&rank_dest);\n",
    "    printf(\"rank: %2d; grank: %2d; [%d,%2d]; grid_rank: %2d; row_rank: %2d; row_size %2d; rank_source %2d; rank_dest %2d; row_cart_rank %2d\\n\",\n",
    "           rank, grank,coordinates[0],coordinates[1], grid_rank,row_rank,row_size, rank_source, rank_dest, row_cart_rank);   \n",
    "    MPI_Finalize();\n",
    "    return 0;\n",
    "}"
   ]
  },
  {
   "cell_type": "code",
   "execution_count": 24,
   "metadata": {},
   "outputs": [
    {
     "name": "stdout",
     "output_type": "stream",
     "text": [
      "rank:  0; grank:  0; [0, 0]; grid_rank:  0; row_rank:  0; row_size  5; rank_source  4; rank_dest  1; row_cart_rank  0\r\n",
      "rank:  4; grank:  4; [0, 4]; grid_rank:  4; row_rank:  4; row_size  5; rank_source  3; rank_dest  0; row_cart_rank  0\r\n",
      "rank: 12; grank: 12; [2, 2]; grid_rank: 12; row_rank:  2; row_size  5; rank_source  1; rank_dest  3; row_cart_rank  2\r\n",
      "rank:  1; grank:  1; [0, 1]; grid_rank:  1; row_rank:  1; row_size  5; rank_source  0; rank_dest  2; row_cart_rank  0\r\n",
      "rank:  3; grank:  3; [0, 3]; grid_rank:  3; row_rank:  3; row_size  5; rank_source  2; rank_dest  4; row_cart_rank  0\r\n",
      "rank:  9; grank:  9; [1, 4]; grid_rank:  9; row_rank:  4; row_size  5; rank_source  3; rank_dest  0; row_cart_rank  1\r\n",
      "rank: 11; grank: 11; [2, 1]; grid_rank: 11; row_rank:  1; row_size  5; rank_source  0; rank_dest  2; row_cart_rank  2\r\n",
      "rank: 16; grank: 16; [3, 1]; grid_rank: 16; row_rank:  1; row_size  5; rank_source  0; rank_dest  2; row_cart_rank  3\r\n",
      "rank: 17; grank: 17; [3, 2]; grid_rank: 17; row_rank:  2; row_size  5; rank_source  1; rank_dest  3; row_cart_rank  3\r\n",
      "rank:  7; grank:  7; [1, 2]; grid_rank:  7; row_rank:  2; row_size  5; rank_source  1; rank_dest  3; row_cart_rank  1\r\n",
      "rank: 19; grank: 19; [3, 4]; grid_rank: 19; row_rank:  4; row_size  5; rank_source  3; rank_dest  0; row_cart_rank  3\r\n",
      "rank:  8; grank:  8; [1, 3]; grid_rank:  8; row_rank:  3; row_size  5; rank_source  2; rank_dest  4; row_cart_rank  1\r\n",
      "rank: 15; grank: 15; [3, 0]; grid_rank: 15; row_rank:  0; row_size  5; rank_source  4; rank_dest  1; row_cart_rank  3\r\n",
      "rank:  5; grank:  5; [1, 0]; grid_rank:  5; row_rank:  0; row_size  5; rank_source  4; rank_dest  1; row_cart_rank  1\r\n",
      "rank: 13; grank: 13; [2, 3]; grid_rank: 13; row_rank:  3; row_size  5; rank_source  2; rank_dest  4; row_cart_rank  2\r\n",
      "rank:  2; grank:  2; [0, 2]; grid_rank:  2; row_rank:  2; row_size  5; rank_source  1; rank_dest  3; row_cart_rank  0\r\n",
      "rank:  6; grank:  6; [1, 1]; grid_rank:  6; row_rank:  1; row_size  5; rank_source  0; rank_dest  2; row_cart_rank  1\r\n",
      "rank: 14; grank: 14; [2, 4]; grid_rank: 14; row_rank:  4; row_size  5; rank_source  3; rank_dest  0; row_cart_rank  2\r\n",
      "rank: 18; grank: 18; [3, 3]; grid_rank: 18; row_rank:  3; row_size  5; rank_source  2; rank_dest  4; row_cart_rank  3\r\n",
      "rank: 10; grank: 10; [2, 0]; grid_rank: 10; row_rank:  0; row_size  5; rank_source  4; rank_dest  1; row_cart_rank  2\r\n"
     ]
    }
   ],
   "source": [
    "!mpicc -pedantic -Wall -o bin/cart_create src/cart_create.c\n",
    "!mpiexec -n 20 --use-hwthread-cpus --oversubscribe bin/cart_create"
   ]
  },
  {
   "cell_type": "markdown",
   "metadata": {},
   "source": [
    "# TODOs:\n",
    "## `MPI_Cart_create, MPI_Cart_coords, MPI_Cart_sub, MPI_Cart_shift, MPI_Comm_rank`"
   ]
  },
  {
   "cell_type": "markdown",
   "metadata": {
    "collapsed": true
   },
   "source": [
    "# Bonus\n",
    "## Assert:"
   ]
  },
  {
   "cell_type": "code",
   "execution_count": 25,
   "metadata": {},
   "outputs": [
    {
     "name": "stdout",
     "output_type": "stream",
     "text": [
      "Overwriting src/mpi_assert.c\n"
     ]
    }
   ],
   "source": [
    "%%writefile src/mpi_assert.c\n",
    "#include<mpi.h>\n",
    "#include<stdio.h>\n",
    "#include<assert.h>\n",
    "int main(int argc, char** argv){\n",
    "    int rank, size;\n",
    "    MPI_Init(&argc,&argv);\n",
    "    MPI_Comm_rank(MPI_COMM_WORLD, &rank);\n",
    "    MPI_Comm_size(MPI_COMM_WORLD, &size);\n",
    "    assert(rank<size);\n",
    "    MPI_Finalize();\n",
    "    return 0;\n",
    "}"
   ]
  },
  {
   "cell_type": "code",
   "execution_count": 26,
   "metadata": {},
   "outputs": [],
   "source": [
    "!mpicc -pedantic -Wall -o bin/mpi_assert src/mpi_assert.c\n",
    "!mpiexec -n 4 bin/mpi_assert"
   ]
  }
 ],
 "metadata": {
  "kernelspec": {
   "display_name": "Python 3",
   "language": "python",
   "name": "python3"
  },
  "language_info": {
   "codemirror_mode": {
    "name": "ipython",
    "version": 3
   },
   "file_extension": ".py",
   "mimetype": "text/x-python",
   "name": "python",
   "nbconvert_exporter": "python",
   "pygments_lexer": "ipython3",
   "version": "3.7.3"
  }
 },
 "nbformat": 4,
 "nbformat_minor": 2
}
